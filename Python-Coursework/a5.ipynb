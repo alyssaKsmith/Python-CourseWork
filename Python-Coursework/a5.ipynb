{
 "cells": [
  {
   "cell_type": "markdown",
   "metadata": {},
   "source": [
    "# Assignment 3 (Name, Z-ID)"
   ]
  },
  {
   "cell_type": "code",
   "execution_count": 1,
   "metadata": {},
   "outputs": [],
   "source": [
    "# Do not modify this cell, just run it to download and load the dataset\n",
    "\n",
    "import os\n",
    "import json\n",
    "from urllib.request import urlretrieve\n",
    "\n",
    "# download the data if we don't have it locally\n",
    "url = \"http://faculty.cs.niu.edu/~dakoop/cs503-2021fa/a3/senate-stock-trades.json\"\n",
    "local_fname = \"senate-stock-trades.json\"\n",
    "if not os.path.exists(local_fname):\n",
    "    urlretrieve(url, local_fname)\n",
    "\n",
    "data = json.load(open(local_fname));"
   ]
  },
  {
   "cell_type": "code",
   "execution_count": 2,
   "metadata": {},
   "outputs": [
    {
     "data": {
      "text/plain": [
       "{'transaction_date': '08/25/2021',\n",
       " 'owner': 'Spouse',\n",
       " 'ticker': 'AAPL',\n",
       " 'asset_type': 'Stock',\n",
       " 'type': 'Purchase',\n",
       " 'amount_range': [1001, 15000],\n",
       " 'senator': 'Shelley M Capito'}"
      ]
     },
     "execution_count": 2,
     "metadata": {},
     "output_type": "execute_result"
    }
   ],
   "source": [
    "# Example code\n",
    "\n",
    "# the first dictionary in the data list\n",
    "data[0]"
   ]
  },
  {
   "cell_type": "code",
   "execution_count": null,
   "metadata": {},
   "outputs": [],
   "source": []
  }
 ],
 "metadata": {
  "kernelspec": {
   "display_name": "Python 3",
   "language": "python",
   "name": "python3"
  },
  "language_info": {
   "codemirror_mode": {
    "name": "ipython",
    "version": 3
   },
   "file_extension": ".py",
   "mimetype": "text/x-python",
   "name": "python",
   "nbconvert_exporter": "python",
   "pygments_lexer": "ipython3",
   "version": "3.8.8"
  }
 },
 "nbformat": 4,
 "nbformat_minor": 4
}
