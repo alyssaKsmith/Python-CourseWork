{
 "cells": [
  {
   "cell_type": "markdown",
   "metadata": {},
   "source": [
    "**1. Academic Classes**"
   ]
  },
  {
   "cell_type": "code",
   "execution_count": 672,
   "metadata": {},
   "outputs": [],
   "source": [
    "# people involved in university course scheduling \n",
    "class Academic:\n",
    "    def __init__(self, campus_id, first_name, last_name, max_credit):\n",
    "        self.first_name = first_name\n",
    "        self.last_name = last_name\n",
    "        self.campus_id = campus_id\n",
    "        self.max_credit = max_credit\n",
    "        self.courses = []\n",
    "    \n",
    "    # check if the course to be added will exceed the maximum number of credits for the person\n",
    "    def add_course(self, campus_id, first_name, last_name, max_credit, course_schedule):\n",
    "        # If it does, raise an exception alerting the user\n",
    "        if self.courses > self.max_credit:\n",
    "            raise Exception(\"Course added exceed maximum number of credits.\")\n",
    "\n",
    "        # If it doesn’t, the course should be added to the schedule\n",
    "        else:\n",
    "            Student.add_course(course_schedule)\n",
    "            Instructor.add_course(course_schedule)\n",
    "            self.courses.append(course_schedule)\n",
    "    \n",
    "    #  drop a student from the Course, and unset the instructor of the course\n",
    "    def remove_course(self, campus_id, first_name, last_name, max_credit, course_schedule):\n",
    "        self.courses.remove(course_scedule)\n",
    "        \n",
    "class Student(Academic):\n",
    "    def __init__(self, campus_id, first_name, last_name, level, max_credit = 16):\n",
    "        super().__init__(campus_id, first_name, last_name, max_credit)\n",
    "        self.student_level = level\n",
    "        self.MAX_CREDITS = max_credit\n",
    "        \n",
    "    def add_course(self, campus_id, course_schedule):\n",
    "        if self.campus_id == self.campus_id:\n",
    "            self.courses.append(course_schedule)\n",
    "    \n",
    "    #remove student from Course\n",
    "    def remove_course(self, campus_id, course_schedule):\n",
    "        if self.campus_id == self.campus_id:\n",
    "            self.courses.remove(course_schedule)\n",
    "        \n",
    "class GraduateStudent(Academic):  \n",
    "    def __init__(self, campus_id, first_name, last_name, graduate = \"Graduate\", max_credit = 12):\n",
    "        super().__init__(campus_id, first_name, last_name, max_credit)\n",
    "        self.graduate_student = graduate\n",
    "        self.MAX_CREDITS = max_credit\n",
    "\n",
    "class Instructor(Academic):    \n",
    "    def __init__(self, campus_id, first_name, last_name, instructor, max_credit = 9):\n",
    "        super().__init__(campus_id, first_name, last_name, max_credit)\n",
    "        self.instructor_rank = instructor\n",
    "        self.MAX_CREDITS = max_credit\n",
    "        \n",
    "    def add_course(self, campus_id, course_schedule):\n",
    "        self.courses.append(course_schedule)\n",
    "        self.instructor_rank = instructor\n",
    "    \n",
    "    \n",
    "    def remove_course(self, campus_id, course_schedule):\n",
    "        if self.campus_id is self.campus_id:\n",
    "            self.courses.remove(course_schedule)"
   ]
  },
  {
   "cell_type": "code",
   "execution_count": 629,
   "metadata": {},
   "outputs": [],
   "source": [
    "s1 = Student(\"z143\", \"Catherine\", \"Smith\", \"Senior\")\n",
    "s2 = Student(\"z352\", \"Niraj\", \"Kumar\", \"Sophomore\")\n",
    "s3 = GraduateStudent(\"z785\", \"Divya\", \"Bharti\")\n",
    "s4 = GraduateStudent(\"z982\", \"James\", \"O'Brien\")\n",
    "\n",
    "i1 = Instructor(\"a421\", \"Jennifer\", \"Martinez\", \"Professor\")\n",
    "i2 = Instructor(\"a572\", \"Jonathan\", \"Jones\", \"Instructor\")"
   ]
  },
  {
   "cell_type": "code",
   "execution_count": 630,
   "metadata": {},
   "outputs": [
    {
     "name": "stdout",
     "output_type": "stream",
     "text": [
      "['csci', 'psych']\n"
     ]
    }
   ],
   "source": [
    "s1.add_course(\"z143\", \"csci\")\n",
    "s1.add_course(\"z143\", \"psych\")\n",
    "print(s1.courses)"
   ]
  },
  {
   "cell_type": "code",
   "execution_count": 631,
   "metadata": {},
   "outputs": [
    {
     "name": "stdout",
     "output_type": "stream",
     "text": [
      "['psych']\n"
     ]
    }
   ],
   "source": [
    "s1.remove_course(\"z143\", \"csci\")\n",
    "print(s1.courses)"
   ]
  },
  {
   "cell_type": "code",
   "execution_count": 632,
   "metadata": {},
   "outputs": [
    {
     "name": "stdout",
     "output_type": "stream",
     "text": [
      "Senior\n",
      "16\n",
      "Sophomore\n",
      "16\n",
      "Graduate\n",
      "12\n",
      "Professor\n",
      "9\n",
      "Instructor\n",
      "9\n"
     ]
    }
   ],
   "source": [
    "print(s1.student_level)\n",
    "print(s1.MAX_CREDITS)\n",
    "\n",
    "print(s2.student_level)\n",
    "print(s2.MAX_CREDITS)\n",
    "\n",
    "print(s3.graduate_student)\n",
    "print(s3.MAX_CREDITS)\n",
    "\n",
    "print(i1.instructor_rank)\n",
    "print(i1.MAX_CREDITS)\n",
    "\n",
    "print(i2.instructor_rank)\n",
    "print(i2.MAX_CREDITS)"
   ]
  },
  {
   "cell_type": "markdown",
   "metadata": {},
   "source": [
    "**2. Course Class**"
   ]
  },
  {
   "cell_type": "code",
   "execution_count": 633,
   "metadata": {},
   "outputs": [],
   "source": [
    "# stores information about a course: department, course number, course name, section, number of credits, times\n",
    "class Course(Academic):\n",
    "    def __init__(self, department, course_number, course_name, section, num_of_credits, times):\n",
    "        self.department = department\n",
    "        self.course_number = course_number\n",
    "        self.course_name = course_name\n",
    "        self.section = section\n",
    "        self.num_of_credits = num_of_credits\n",
    "        self.times = times\n",
    "        self.classes = []\n",
    "    \n",
    "    def course_line(self):\n",
    "        print(\"Department:\", self.department, \"Course number:\", self.course_number, \"Section name:\", self.section, \"Number of credits:\", self.num_of_credits, \"Times:\", str(self.times).strip('[]'))\n",
    "    \n",
    "    # add a student from the course         \n",
    "    def enroll(self, student):\n",
    "        self.classes.append(student)\n",
    "    \n",
    "    # remove a student from the course\n",
    "    def drop(self, student):\n",
    "        if student in self.enrolls:\n",
    "            self.enrolls.remove(student)\n",
    "            \n",
    "    # update the times of the course        \n",
    "    def update_time(self):\n",
    "        self.times.update(times)"
   ]
  },
  {
   "cell_type": "code",
   "execution_count": 634,
   "metadata": {},
   "outputs": [],
   "source": [
    "c1 = Course(\"CSCI\", 1543, \"Programming Principles in Python\", 1, 3, [(\"Mon\", 10, 12), (\"Wed\", 10, 12)])\n",
    "c2 = Course(\"CSCI\", 1342, \"Computer Networks\", 2, 4, [(\"Tue\", 14, 16), (\"Thu\", 14, 16), (\"Fri\", 12, 13)])\n",
    "c3 = Course(\"CSCI\", 1352, \"Computer Graphics\", 1, 3, [(\"Tue\", 10, 12), (\"Thu\", 10, 12)])\n",
    "c4 = Course(\"SOCI\", 1230, \"Introduction to Sociology\", 1, 3, [(\"Mon\", 11, 13), (\"Thu\", 11, 13)])\n",
    "c5 = Course(\"POLS\", 1100, \"American Politics\", 2, 3, [(\"Tue\", 10, 12), (\"Thu\", 10, 12)])\n",
    "c6 = Course(\"SOCI\", 1450, \"Classical Sociological Theory\", 1, 3, [(\"Mon\", 12, 13), (\"Wed\", 12, 13), (\"Fri\", 12, 13)])"
   ]
  },
  {
   "cell_type": "code",
   "execution_count": 635,
   "metadata": {},
   "outputs": [
    {
     "name": "stdout",
     "output_type": "stream",
     "text": [
      "Department: CSCI Course number: 1543 Section name: 1 Number of credits: 3 Times: ('Mon', 10, 12), ('Wed', 10, 12)\n",
      "Department: CSCI Course number: 1342 Section name: 2 Number of credits: 4 Times: ('Tue', 14, 16), ('Thu', 14, 16), ('Fri', 12, 13)\n",
      "Department: CSCI Course number: 1352 Section name: 1 Number of credits: 3 Times: ('Tue', 10, 12), ('Thu', 10, 12)\n",
      "Department: SOCI Course number: 1230 Section name: 1 Number of credits: 3 Times: ('Mon', 11, 13), ('Thu', 11, 13)\n",
      "Department: POLS Course number: 1100 Section name: 2 Number of credits: 3 Times: ('Tue', 10, 12), ('Thu', 10, 12)\n",
      "Department: SOCI Course number: 1450 Section name: 1 Number of credits: 3 Times: ('Mon', 12, 13), ('Wed', 12, 13), ('Fri', 12, 13)\n"
     ]
    }
   ],
   "source": [
    "c1.course_line()\n",
    "c2.course_line()\n",
    "c3.course_line()\n",
    "c4.course_line()\n",
    "c5.course_line()\n",
    "c6.course_line()"
   ]
  },
  {
   "cell_type": "markdown",
   "metadata": {},
   "source": [
    "**3. Schedule Class**"
   ]
  },
  {
   "cell_type": "code",
   "execution_count": 670,
   "metadata": {},
   "outputs": [],
   "source": [
    "# tracks all courses an Academic is involved in\n",
    "class Schedule(Academic):\n",
    "    # constructor takes an optional list of courses to be added to the schedule\n",
    "    def __init__(self, course = None):\n",
    "        if course is None:\n",
    "            self.courses = []\n",
    "        else:\n",
    "            self.courses = course\n",
    "\n",
    "    # returns the sum of the number of credits in all courses (getter only)\n",
    "    @property\n",
    "    def credits(self, credit_total):\n",
    "        for val in self.course.credit_total:\n",
    "            credit_total = credit_total + (course.num_of_credits)\n",
    "        print(credit_total)"
   ]
  },
  {
   "cell_type": "markdown",
   "metadata": {},
   "source": [
    "**4. Registrar Class**"
   ]
  },
  {
   "cell_type": "code",
   "execution_count": 669,
   "metadata": {},
   "outputs": [],
   "source": [
    "# keep track of all academic persons and all courses\n",
    "class Registrar(Academic):\n",
    "    def __init__(self):\n",
    "        self.add_person = []\n",
    "        self.add_courses = []\n",
    "        self.add_person_to_course = []\n",
    "        self.remove_person_from_course = []\n",
    "        self.courses = []\n",
    "        \n",
    "    # call the add/remove_course methods\n",
    "    def add_persons(self, add_course):\n",
    "        self.courses.append(add_course)\n",
    "    \n",
    "    def add_course(self, course_schedule):\n",
    "        Academic.add_course(course_schedule)\n",
    "        self.courses.append(course_schedule)\n",
    "    \n",
    "    # The add/remove person to/from course methods \n",
    "    def add_person_to_course(self, campus_id, department, course_number, section, add_person_to_course):\n",
    "        self.add_person_to_course.append(add_person_to_course)\n",
    "    \n",
    "    def remove_person_from_course(self, campus_id, department, course_number, section, remove_person_from_course):\n",
    "        self.remove_person_from_course.remove(remove_person_from_course)"
   ]
  }
 ],
 "metadata": {
  "kernelspec": {
   "display_name": "Python 3.9",
   "language": "python",
   "name": "python3"
  },
  "language_info": {
   "codemirror_mode": {
    "name": "ipython",
    "version": 3
   },
   "file_extension": ".py",
   "mimetype": "text/x-python",
   "name": "python",
   "nbconvert_exporter": "python",
   "pygments_lexer": "ipython3",
   "version": "3.9.6"
  }
 },
 "nbformat": 4,
 "nbformat_minor": 4
}
