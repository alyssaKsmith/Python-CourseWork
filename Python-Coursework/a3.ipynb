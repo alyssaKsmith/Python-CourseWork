{
 "cells": [
  {
   "cell_type": "markdown",
   "metadata": {},
   "source": [
    "Alyssa Smith\n",
    "\n",
    "Z1839851\n",
    "\n",
    "CSCI 490/503: Assignment 3\n",
    "\n",
    "Due Date: September 23th, 2021"
   ]
  },
  {
   "cell_type": "code",
   "execution_count": 1,
   "metadata": {},
   "outputs": [],
   "source": [
    "import os\n",
    "import json\n",
    "from urllib.request import urlretrieve\n",
    "\n",
    "# download the data if we don't have it locally\n",
    "url = \"http://faculty.cs.niu.edu/~dakoop/cs503-2021fa/a3/senate-stock-trades.json\"\n",
    "local_fname = \"senate-stock-trades.json\"\n",
    "if not os.path.exists(local_fname):\n",
    "    urlretrieve(url, local_fname)\n",
    "\n",
    "data = json.load(open(local_fname));"
   ]
  },
  {
   "cell_type": "markdown",
   "metadata": {},
   "source": [
    "**1. Owner Types**"
   ]
  },
  {
   "cell_type": "code",
   "execution_count": 2,
   "metadata": {},
   "outputs": [],
   "source": [
    "# Using a set\n",
    "names = set()\n",
    "owner = set(names)\n",
    "\n",
    "# iterate through list of elements, extract owner type\n",
    "for o, owner in enumerate(data):\n",
    "    names.add(data[o]['owner'])"
   ]
  },
  {
   "cell_type": "code",
   "execution_count": 3,
   "metadata": {},
   "outputs": [
    {
     "name": "stdout",
     "output_type": "stream",
     "text": [
      "{'Child', 'Spouse', 'Joint', 'Self'}\n"
     ]
    }
   ],
   "source": [
    "# print out owner types, no duplicates\n",
    "print(names)"
   ]
  },
  {
   "cell_type": "markdown",
   "metadata": {},
   "source": [
    "**2. Largest Transaction**"
   ]
  },
  {
   "cell_type": "code",
   "execution_count": 4,
   "metadata": {},
   "outputs": [],
   "source": [
    "# Using a set\n",
    "amount = set()\n",
    "transaction = set(amount)\n",
    "\n",
    "#max integer\n",
    "max = 0\n",
    "\n",
    "# Iterate through the list of elements \n",
    "for i, transaction in enumerate(data):\n",
    "    # range for amount_range\n",
    "    upper_bound = data[i]['amount_range'][1]\n",
    "    lower_bound = data[i]['amount_range'][0]\n",
    "\n",
    "    # If Upper bound of None\n",
    "    if upper_bound == None:\n",
    "        # money amount is lower bound\n",
    "        money_amount = data[i]['amount_range'][0]\n",
    "        # get senators name\n",
    "        max_senator = data[i]['senator'] \n",
    "        break\n",
    "    \n",
    "    else:\n",
    "        # else money amount is upper bound subtracted by lower bound\n",
    "        money_amount = data[i]['amount_range'][1] - data[i]['amount_range'][0] \n",
    "    \n",
    "    # if money amount is greater than the max then set it to lower bound\n",
    "    if money_amount > max:\n",
    "        money_amount = data[i]['amount_range'][0]\n",
    "        # get senators name\n",
    "        max_senator = data[i]['senator']"
   ]
  },
  {
   "cell_type": "code",
   "execution_count": 5,
   "metadata": {},
   "outputs": [
    {
     "name": "stdout",
     "output_type": "stream",
     "text": [
      "Most amount: 50000001  senator: James M Inhofe\n"
     ]
    }
   ],
   "source": [
    "print(\"Most amount:\", money_amount, \" senator:\", max_senator)"
   ]
  },
  {
   "cell_type": "markdown",
   "metadata": {},
   "source": [
    "**3. Transaction Counts**"
   ]
  },
  {
   "cell_type": "code",
   "execution_count": 6,
   "metadata": {},
   "outputs": [],
   "source": [
    "# Create a dictionary\n",
    "type_sale = {}\n",
    "\n",
    "# Iterate through list elements\n",
    "for key, value in enumerate(data):\n",
    "    # if type has Sale (Full) or Sale (Partial)\n",
    "    if data[key]['type'] == 'Sale (Full)' or data[key]['type'] == 'Sale (Partial)':\n",
    "        # if senator does not have types then do not increment\n",
    "        if data[key]['senator'] not in type_sale:\n",
    "            type_sale[data[key]['senator']] = 1\n",
    "            \n",
    "        # else senator does have types then increment\n",
    "        else:\n",
    "            type_sale[data[key]['senator']] += 1"
   ]
  },
  {
   "cell_type": "code",
   "execution_count": 7,
   "metadata": {},
   "outputs": [
    {
     "name": "stdout",
     "output_type": "stream",
     "text": [
      "{'Shelley M Capito': 144, 'Sheldon Whitehouse': 219, 'Thomas H Tuberville': 109, 'Mark R Warner': 31, 'Thomas R Carper': 348, 'Christopher A Coons': 23, 'Roger W Marshall': 1, 'John Hoeven': 63, 'John W Hickenlooper': 4, 'Angus S King, Jr.': 46, 'Ron L Wyden': 40, 'Rick Scott': 22, 'John Boozman': 1, 'William F Hagerty, Iv': 4, 'Ladda Tammy Duckworth': 6, 'Daniel S Sullivan': 21, 'Jerry Moran,': 58, 'Patrick J Toomey': 92, 'James M Inhofe': 144, 'Susan M Collins': 61, 'Pat Roberts': 151, 'William Cassidy': 100, 'Kelly Loeffler': 180, 'Timothy M Kaine': 1, 'Ron Johnson': 2, 'David A Perdue , Jr': 1314, 'Roger F Wicker': 6, 'Tina Smith': 18, 'Lamar Alexander': 23, 'Roy Blunt': 4, 'Rafael E Cruz': 7, 'A. Mitchell Mcconnell, Jr.': 5, 'Gary C Peters': 11, 'Jacklyn S Rosen': 1, 'Thomas Udall': 2, 'John F Reed': 124, 'Thomas R Tillis': 99, 'John A Barrasso': 1, 'Robert P Casey, Jr.': 1, 'Robert J Portman': 9, 'Michael F Bennet': 2, 'Tammy Duckworth': 14, 'Patty Murray': 83, 'Steve Daines': 1, 'Chris Van Hollen': 7, 'John Cornyn': 1, 'Maria Cantwell': 1, 'Michael  B Enzi': 1, 'Mike Rounds': 1, 'Benjamin L Cardin': 1}\n"
     ]
    }
   ],
   "source": [
    "print(type_sale)"
   ]
  },
  {
   "cell_type": "markdown",
   "metadata": {},
   "source": [
    "**4. Sales Sums**"
   ]
  },
  {
   "cell_type": "code",
   "execution_count": 17,
   "metadata": {},
   "outputs": [],
   "source": [
    "# Create a dictionary\n",
    "sale_sum = {}\n",
    "\n",
    "# Iterate through list elements\n",
    "for key, value in enumerate(data):\n",
    "    # if type has Sale (Full) or Sale (Partial)\n",
    "    if data[key]['type'] == 'Sale (Full)' or data[key]['type'] == 'Sale (Partial)':\n",
    "        \n",
    "        # if senator does not have types then do not increment\n",
    "        if data[key]['senator'] not in sale_sum:\n",
    "            sale_sum[data[key]['senator']] = data[key]['amount_range'][0], data[key]['amount_range'][1]\n",
    "        \n",
    "        # else senator does have types then increment\n",
    "        else:\n",
    "            # if amount range is None on Upper bound\n",
    "            if data[key]['amount_range'][1] == None:\n",
    "                sale_sum[data[key]['senator'][1]] = None\n",
    "                sale_sum[data[key]['senator'][0]] = sale_sum[data[key]['senator']][0] + data[key]['amount_range'][0]\n",
    "            \n",
    "            # else add upper bound and lower bound\n",
    "            else:\n",
    "                sale_sum[data[key]['senator']] = sale_sum[data[key]['senator']][0] + data[key]['amount_range'][0], sale_sum[data[key]['senator']][1] + data[key]['amount_range'][1]"
   ]
  },
  {
   "cell_type": "code",
   "execution_count": 18,
   "metadata": {},
   "outputs": [
    {
     "name": "stdout",
     "output_type": "stream",
     "text": [
      "{'Shelley M Capito': (312144, 2580000), 'Sheldon Whitehouse': (1500219, 6450000), 'Thomas H Tuberville': (684109, 2835000), 'Mark R Warner': (8291031, 31965000), 'Thomas R Carper': (1132348, 7105000), 'Christopher A Coons': (3058023, 6420000), 'Roger W Marshall': (250001, 500000), 'John Hoeven': (8899063, 34360000), 'John W Hickenlooper': (216004, 565000), 'Angus S King, Jr.': (235046, 1125000), 'Ron L Wyden': (1228040, 3095000), 'Rick Scott': (21750022, 91750000), 'John Boozman': (1001, 15000), 'William F Hagerty, Iv': (32004, 130000), 'Ladda Tammy Duckworth': (20006, 125000), 'Daniel S Sullivan': (634021, 1485000), 'Jerry Moran,': (100058, 975000), 'Patrick J Toomey': (779092, 3085000), 'James M Inhofe': (4763143, 11170000), 'Susan M Collins': (460061, 1800000), 'Pat Roberts': (2965151, 8200000), 'William Cassidy': (128100, 1570000), 'Kelly Loeffler': (33448180, 137220000), 'Timothy M Kaine': (1001, 15000), 'Ron Johnson': (5100002, 25250000), 'David A Perdue , Jr': (14816314, 52100000), 'Roger F Wicker': (48006, 195000), 'Tina Smith': (2047018, 4530000), 'Lamar Alexander': (2460023, 8200000), 'Roy Blunt': (53004, 145000), 'Rafael E Cruz': (161007, 415000), 'A. Mitchell Mcconnell, Jr.': (615005, 1250000), 'Gary C Peters': (39011, 235000), 'Jacklyn S Rosen': (15001, 50000), 'Thomas Udall': (2002, 30000), 'John F Reed': (180124, 2000000), 'Thomas R Tillis': (127099, 1555000), 'John A Barrasso': (50001, 100000), 'Robert P Casey, Jr.': (1001, 15000), 'Robert J Portman': (700009, 1650000), 'Michael F Bennet': (1000002, 2000000), 'Tammy Duckworth': (28014, 245000), 'Patty Murray': (83083, 1245000), 'Steve Daines': (15001, 50000), 'Chris Van Hollen': (35007, 175000), 'John Cornyn': (15001, 50000), 'Maria Cantwell': (1001, 15000), 'Michael  B Enzi': (1001, 15000), 'Mike Rounds': (5000001, 25000000), 'a': None, 'J': 54266124, 'Benjamin L Cardin': (50001, 100000)}\n"
     ]
    }
   ],
   "source": [
    "print(sale_sum)"
   ]
  },
  {
   "cell_type": "markdown",
   "metadata": {},
   "source": [
    "**5. Median Transaction by Ticker Symbol**"
   ]
  },
  {
   "cell_type": "code",
   "execution_count": 11,
   "metadata": {},
   "outputs": [],
   "source": [
    "def get_ticker_median(median):\n",
    "    # Using a list\n",
    "    ticker_median = []\n",
    "    \n",
    "    # iterate through list elements\n",
    "    for i, value in enumerate(data):\n",
    "        \n",
    "        if data[i]['ticker'] == median:\n",
    "            ticker_median.append(data[i]['amount_range'])\n",
    "    \n",
    "        ticker_median.sort()\n",
    "        index = len(ticker_median) / 2\n",
    "        \n",
    "        # if odd\n",
    "        if len(ticker_median) % 2 != 0:\n",
    "            return ticker_median[int(index)]\n",
    "        \n",
    "        # if even\n",
    "        return(ticker_median[index - 1] + ticker_median[index]) / 2"
   ]
  },
  {
   "cell_type": "code",
   "execution_count": 13,
   "metadata": {},
   "outputs": [
    {
     "name": "stdout",
     "output_type": "stream",
     "text": [
      "[1001, 15000]\n"
     ]
    }
   ],
   "source": [
    "print(get_ticker_median('AAPL'))"
   ]
  }
 ],
 "metadata": {
  "kernelspec": {
   "display_name": "Python 3",
   "language": "python",
   "name": "python3"
  },
  "language_info": {
   "codemirror_mode": {
    "name": "ipython",
    "version": 3
   },
   "file_extension": ".py",
   "mimetype": "text/x-python",
   "name": "python",
   "nbconvert_exporter": "python",
   "pygments_lexer": "ipython3",
   "version": "3.8.8"
  }
 },
 "nbformat": 4,
 "nbformat_minor": 4
}
