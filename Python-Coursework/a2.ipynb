{
 "cells": [
  {
   "cell_type": "markdown",
   "metadata": {},
   "source": [
    "**1. Logarithm Base 3**"
   ]
  },
  {
   "cell_type": "code",
   "execution_count": 212,
   "metadata": {},
   "outputs": [],
   "source": [
    "def log_base(c):\n",
    "    num_of_div = 0\n",
    "    # loop as long as n is not 1\n",
    "    # Compute the logarithm\n",
    "    while c != 1:\n",
    "        num_of_div += 1\n",
    "        c = c / 3\n",
    "    # Return the result of number of divisions\n",
    "    return num_of_div"
   ]
  },
  {
   "cell_type": "code",
   "execution_count": 213,
   "metadata": {},
   "outputs": [
    {
     "name": "stdout",
     "output_type": "stream",
     "text": [
      "3 4 and 7\n"
     ]
    }
   ],
   "source": [
    "print(log_base(27), log_base(81), \"and\", log_base(2187))"
   ]
  },
  {
   "cell_type": "markdown",
   "metadata": {},
   "source": [
    "**2. Addition in FRACTRAN**"
   ]
  },
  {
   "cell_type": "code",
   "execution_count": 214,
   "metadata": {},
   "outputs": [],
   "source": [
    "def fractran_add(a,b):\n",
    "    # Calculate n = 2^a*3^b\n",
    "    n = (2**a)*(3**b)\n",
    "    num_of_div = 0\n",
    "    # Loop as long as n is even\n",
    "    while n % 2 == 0:\n",
    "        n = (n*3) / 2\n",
    "    # Compute the logarithm (base 3)\n",
    "    num_of_div = 0\n",
    "    # loop as long as n is not 1\n",
    "    # Compute the logarithm\n",
    "    while n != 1:\n",
    "        num_of_div += 1\n",
    "        n = n / 3\n",
    "    return num_of_div"
   ]
  },
  {
   "cell_type": "code",
   "execution_count": 215,
   "metadata": {},
   "outputs": [
    {
     "name": "stdout",
     "output_type": "stream",
     "text": [
      "1 + 3 = 4\n",
      "1 + 4 = 5\n",
      "1 + 5 = 6\n",
      "1 + 6 = 7\n",
      "1 + 7 = 8\n",
      "2 + 3 = 5\n",
      "2 + 4 = 6\n",
      "2 + 5 = 7\n",
      "2 + 6 = 8\n",
      "2 + 7 = 9\n",
      "3 + 3 = 6\n",
      "3 + 4 = 7\n",
      "3 + 5 = 8\n",
      "3 + 6 = 9\n",
      "3 + 7 = 10\n",
      "4 + 3 = 7\n",
      "4 + 4 = 8\n",
      "4 + 5 = 9\n",
      "4 + 6 = 10\n",
      "4 + 7 = 11\n",
      "5 + 3 = 8\n",
      "5 + 4 = 9\n",
      "5 + 5 = 10\n",
      "5 + 6 = 11\n",
      "5 + 7 = 12\n"
     ]
    }
   ],
   "source": [
    "# a values from 1 to 5\n",
    "for a in range(1,6):\n",
    "    # b values from 3 to 7\n",
    "    for b in range(3,8):\n",
    "        print(a, \"+\", b, \"=\", fractran_add(a,b))"
   ]
  },
  {
   "cell_type": "markdown",
   "metadata": {},
   "source": [
    "**3. Subtraction in FRACTRAN**"
   ]
  },
  {
   "cell_type": "code",
   "execution_count": 216,
   "metadata": {},
   "outputs": [],
   "source": [
    "def fractran_sub(a,b):\n",
    "    # Calculate n = 3^a*5^b\n",
    "    n = (3**a)*(5**b)\n",
    "    num_of_div = 0\n",
    "    # Loop as long n is divisble by 15\n",
    "    while n % 15 == 0:\n",
    "        n = (n*2) / 15\n",
    "    # Loop as long as n is divisble by 2\n",
    "    while n % 2 == 0:\n",
    "        n = n / 2\n",
    "    num_of_div = 0\n",
    "    # loop as long as n is not 1\n",
    "    # Compute the logarithm\n",
    "    while  n!= 1:\n",
    "        num_of_div += 1\n",
    "        n = n / 3\n",
    "    return num_of_div"
   ]
  },
  {
   "cell_type": "code",
   "execution_count": 217,
   "metadata": {},
   "outputs": [
    {
     "name": "stdout",
     "output_type": "stream",
     "text": [
      "5 - 1 = 4\n",
      "5 - 2 = 3\n",
      "5 - 3 = 2\n",
      "5 - 4 = 1\n",
      "5 - 5 = 0\n",
      "6 - 1 = 5\n",
      "6 - 2 = 4\n",
      "6 - 3 = 3\n",
      "6 - 4 = 2\n",
      "6 - 5 = 1\n",
      "7 - 1 = 6\n",
      "7 - 2 = 5\n",
      "7 - 3 = 4\n",
      "7 - 4 = 3\n",
      "7 - 5 = 2\n",
      "8 - 1 = 7\n",
      "8 - 2 = 6\n",
      "8 - 3 = 5\n",
      "8 - 4 = 4\n",
      "8 - 5 = 3\n",
      "9 - 1 = 8\n",
      "9 - 2 = 7\n",
      "9 - 3 = 6\n",
      "9 - 4 = 5\n",
      "9 - 5 = 4\n",
      "10 - 1 = 9\n",
      "10 - 2 = 8\n",
      "10 - 3 = 7\n",
      "10 - 4 = 6\n",
      "10 - 5 = 5\n"
     ]
    }
   ],
   "source": [
    "# a values from 5 to 10\n",
    "for a in range(5,11):\n",
    "    # b values from 1 to 6\n",
    "    for b in range(1,6):\n",
    "        print(a, \"-\", b, \"=\", fractran_sub(a,b))"
   ]
  }
 ],
 "metadata": {
  "kernelspec": {
   "display_name": "Python 3.9",
   "language": "python",
   "name": "python3"
  },
  "language_info": {
   "codemirror_mode": {
    "name": "ipython",
    "version": 3
   },
   "file_extension": ".py",
   "mimetype": "text/x-python",
   "name": "python",
   "nbconvert_exporter": "python",
   "pygments_lexer": "ipython3",
   "version": "3.9.6"
  }
 },
 "nbformat": 4,
 "nbformat_minor": 4
}
